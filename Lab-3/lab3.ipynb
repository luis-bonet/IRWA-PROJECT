{
 "cells": [
  {
   "cell_type": "code",
   "execution_count": 67,
   "metadata": {},
   "outputs": [],
   "source": [
    "import json\n",
    "import pandas as pd\n",
    "import numpy as np\n",
    "import matplotlib.pyplot as plt\n",
    "import csv\n",
    "from collections import Counter\n",
    "# from config import *\n",
    "import json\n",
    "import datetime\n",
    "import re\n",
    "from nltk.stem import PorterStemmer\n",
    "from nltk.corpus import stopwords\n",
    "from sklearn.feature_extraction.text import TfidfVectorizer\n",
    "from sklearn.metrics.pairwise import linear_kernel\n",
    "\n"
   ]
  },
  {
   "cell_type": "code",
   "execution_count": 68,
   "metadata": {},
   "outputs": [],
   "source": [
    "#This function will clean our text from data that is not important so that has no weight \n",
    "def clean_text(tweet):\n",
    "    stemmer = PorterStemmer()\n",
    "    stop_words = set(stopwords.words(\"english\"))\n",
    "   \n",
    "    tweet = tweet.lower() # Transform in lowercase\n",
    "\n",
    "    tweet = re.sub(r'@[a-zA-Z]+', '', tweet) # Here we remove the mentions in the tweet ex: @canodep\n",
    "    tweet = re.sub(r\"\\B#([a-z0-9]{2,})(?![~!@#$%^&*()=+_`\\-\\|\\/'\\[\\]\\{\\}]|[?.,]*\\w)\", '', tweet) # Here we remove the hashtags, because we will treat it later\n",
    "    tweet = re.sub(r'[^\\w\\s]', '', tweet) # Here we remove punctuation marks\n",
    "    tweet = re.sub(r'http\\S+', '',tweet) # Remove http and https\n",
    "    tweet = tweet.split() # Tokenize the text to get a list of terms\n",
    "\n",
    "    tweet = [word for word in tweet if word not in stop_words]  # eliminate the stopwords\n",
    "    tweet = [stemmer.stem(word) for word in tweet] # Perform stemming \n",
    "    return tweet\n",
    "    "
   ]
  },
  {
   "cell_type": "code",
   "execution_count": 69,
   "metadata": {},
   "outputs": [],
   "source": [
    "docs_path = 'data/tw_hurricane_data.json'\n",
    "tweets_title = 'data/tweet_document_ids_map.csv'\n",
    "\n",
    "tweets_id_title = {}\n",
    "\n",
    "with open(tweets_title) as fp:\n",
    "    lines = fp.readlines()\n",
    "\n",
    "\n",
    "for l in lines:\n",
    "    l = l.strip().split(\"\\t\")\n",
    "    tweets_id_title[int(l[1])] =  l[0]\n",
    "\n",
    "\n",
    "tweets = []\n",
    "lines = []\n",
    "\n",
    "for line in open(docs_path, 'r'):\n",
    "    lines.append(line)\n",
    "    #media = json.loads(line).get('entities').get('media')\n",
    "    tweets.append({\n",
    "        'id' : int(json.loads(line).get('id')),\n",
    "        'title' : tweets_id_title[int(json.loads(line).get('id'))],\n",
    "        'text': json.loads(line).get('full_text'),\n",
    "        'username' : json.loads(line).get('user').get('screen_name'),\n",
    "        'date' : json.loads(line).get('created_at'),\n",
    "        'hashtag' : list(map(lambda hashtag:  hashtag.get('text'),  json.loads(line).get('entities').get('hashtags'))),\n",
    "        'like' : json.loads(line).get('favorite_count'),\n",
    "        'rt' : json.loads(line).get('retweet_count'),\n",
    "        'URL' : 'https://twitter.com/' + json.loads(line).get('user').get('screen_name') + \"/status/\" + str(json.loads(line).get('id'))\n",
    "    }) \n"
   ]
  },
  {
   "cell_type": "code",
   "execution_count": null,
   "metadata": {},
   "outputs": [],
   "source": []
  },
  {
   "cell_type": "code",
   "execution_count": 71,
   "metadata": {},
   "outputs": [
    {
     "name": "stderr",
     "output_type": "stream",
     "text": [
      "/home/alfa/.local/lib/python3.8/site-packages/sklearn/utils/deprecation.py:87: FutureWarning: Function get_feature_names is deprecated; get_feature_names is deprecated in 1.0 and will be removed in 1.2. Please use get_feature_names_out instead.\n",
      "  warnings.warn(msg, category=FutureWarning)\n"
     ]
    },
    {
     "name": "stdout",
     "output_type": "stream",
     "text": [
      "[[1.         0.03537872 0.00894123 ... 0.04613254 0.00698248 0.01616436]\n",
      " [0.03537872 1.         0.00262344 ... 0.00225951 0.00204873 0.00157583]\n",
      " [0.00894123 0.00262344 1.         ... 0.01204297 0.01091949 0.00839899]\n",
      " ...\n",
      " [0.04613254 0.00225951 0.01204297 ... 1.         0.00940472 0.02576522]\n",
      " [0.00698248 0.00204873 0.01091949 ... 0.00940472 1.         0.00655903]\n",
      " [0.01616436 0.00157583 0.00839899 ... 0.02576522 0.00655903 1.        ]]\n"
     ]
    }
   ],
   "source": [
    "tweets_text = list(map(lambda tweet: tweet.get('text'), tweets))\n",
    "vectorizer = TfidfVectorizer()\n",
    "vectors = vectorizer.fit_transform(tweets_text)\n",
    "feature_names = vectorizer.get_feature_names()\n",
    "dense = vectors.todense()\n",
    "denselist = dense.tolist()\n",
    "\n",
    "tfidf = pd.DataFrame(denselist, columns=feature_names)\n",
    "\n",
    "\n",
    "cosine_sim = linear_kernel(tfidf, tfidf)\n",
    "print(cosine_sim)"
   ]
  }
 ],
 "metadata": {
  "kernelspec": {
   "display_name": "Python 3.8.10 64-bit",
   "language": "python",
   "name": "python3"
  },
  "language_info": {
   "codemirror_mode": {
    "name": "ipython",
    "version": 3
   },
   "file_extension": ".py",
   "mimetype": "text/x-python",
   "name": "python",
   "nbconvert_exporter": "python",
   "pygments_lexer": "ipython3",
   "version": "3.8.10"
  },
  "orig_nbformat": 4,
  "vscode": {
   "interpreter": {
    "hash": "916dbcbb3f70747c44a77c7bcd40155683ae19c65e1c03b4aa3499c5328201f1"
   }
  }
 },
 "nbformat": 4,
 "nbformat_minor": 2
}
