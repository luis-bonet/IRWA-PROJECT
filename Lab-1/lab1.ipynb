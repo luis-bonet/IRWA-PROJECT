{
 "cells": [
  {
   "cell_type": "code",
   "execution_count": 43,
   "metadata": {},
   "outputs": [
    {
     "name": "stderr",
     "output_type": "stream",
     "text": [
      "[nltk_data] Downloading package stopwords to /home/alfa/nltk_data...\n",
      "[nltk_data]   Package stopwords is already up-to-date!\n"
     ]
    },
    {
     "data": {
      "text/plain": [
       "True"
      ]
     },
     "execution_count": 43,
     "metadata": {},
     "output_type": "execute_result"
    }
   ],
   "source": [
    "import nltk\n",
    "nltk.download('stopwords')"
   ]
  },
  {
   "cell_type": "code",
   "execution_count": 44,
   "metadata": {},
   "outputs": [],
   "source": [
    "from collections import defaultdict\n",
    "from array import array\n",
    "from nltk.stem import PorterStemmer\n",
    "from nltk.corpus import stopwords\n",
    "import math\n",
    "import numpy as np\n",
    "import collections\n",
    "import json\n",
    "import re\n",
    "from numpy import linalg as la"
   ]
  },
  {
   "cell_type": "code",
   "execution_count": 45,
   "metadata": {},
   "outputs": [
    {
     "name": "stdout",
     "output_type": "stream",
     "text": [
      "{'id': 1575884824048345091, 'text': 'Thoughts go out to #SouthCarolina #NorthCarolina and any other area being hit today by #hurricaneian', 'username': 'Charles Atlas', 'date': 'Fri Sep 30 16:26:35 +0000 2022', 'hashtag': [{'text': 'SouthCarolina', 'indices': [19, 33]}, {'text': 'NorthCarolina', 'indices': [34, 48]}, {'text': 'hurricaneian', 'indices': [87, 100]}], 'like': 0, 'rt': 0, 'URL': 0}\n"
     ]
    }
   ],
   "source": [
    "docs_path = 'data/tw_hurricane_data.json'\n",
    "tweets = []\n",
    "lines = []\n",
    "\n",
    "for line in open(docs_path, 'r'):\n",
    "    lines.append(line)\n",
    "    #media = json.loads(line).get('entities').get('media')\n",
    "    tweets.append({\n",
    "        'id' : json.loads(line).get('id'),\n",
    "        'text': json.loads(line).get('full_text'),\n",
    "        'username' : json.loads(line).get('user').get('name'),\n",
    "        'date' : json.loads(line).get('created_at'),\n",
    "        'hashtag' : json.loads(line).get('entities').get('hashtags'), # Si añadimos .get('text') obtenemos solo info del hashtag\n",
    "        'like' : json.loads(line).get('favorite_count'),\n",
    "        'rt' : json.loads(line).get('retweet_count'),\n",
    "        'URL' : len(json.loads(line).get('entities').get('urls'))\n",
    "    }) #Here we get only the text from the tweets in json document\n",
    "print(tweets[2000])\n",
    "\n",
    "#print(lines[0])"
   ]
  },
  {
   "cell_type": "code",
   "execution_count": 46,
   "metadata": {},
   "outputs": [
    {
     "name": "stdout",
     "output_type": "stream",
     "text": [
      "Total number of Tweets: 4000\n"
     ]
    }
   ],
   "source": [
    "print(\"Total number of Tweets: {}\".format(len(tweets)))"
   ]
  },
  {
   "cell_type": "code",
   "execution_count": 47,
   "metadata": {},
   "outputs": [],
   "source": [
    "#This function will clean our text from data that is not important so that has no weight \n",
    "def clean_text(tweet):\n",
    "    stemmer = PorterStemmer()\n",
    "    stop_words = set(stopwords.words(\"english\"))\n",
    "    ## START CODE\n",
    "   \n",
    "    tweet = tweet.get('text').lower() # Transform in lowercase\n",
    "    tweet = re.sub(r'[^\\w\\s]', '', tweet) # Here we remove punctuation marks\n",
    "    tweet = tweet.split() # Tokenize the text to get a list of terms\n",
    "    tweet = [word for word in tweet if word not in stop_words]  # eliminate the stopwords\n",
    "    #tweet = [stemmer.stem(tweet) for tweet in tweets] # Perform stemming \n",
    "    ## END CODE    \n",
    "    return tweet"
   ]
  },
  {
   "cell_type": "code",
   "execution_count": 48,
   "metadata": {},
   "outputs": [
    {
     "name": "stdout",
     "output_type": "stream",
     "text": [
      "['list', 'expanded', 'community', 'foundations', 'across', 'florida', 'set', 'relief', 'funds', 'help', 'impacted', 'hurricaneian', 'take', 'action', 'share', 'cfsarasota', 'manateecf', 'colliercffl', 'givecf', 'miamifoundation', 'httpstco0uui16fita']\n"
     ]
    }
   ],
   "source": [
    "print(clean_text(tweets[1000]))"
   ]
  },
  {
   "cell_type": "code",
   "execution_count": 49,
   "metadata": {},
   "outputs": [],
   "source": [
    "def create_index(tweets):\n",
    "    \"\"\"\n",
    "    Implement the inverted index\n",
    "    \n",
    "    Argument:\n",
    "    lines -- collection of Wikipedia articles\n",
    "    \n",
    "    Returns:\n",
    "    index - the inverted index (implemented through a Python dictionary) containing terms as keys and the corresponding\n",
    "    list of documents where these keys appears in (and the positions) as values.\n",
    "    \"\"\"\n",
    "    index = defaultdict(list)\n",
    "\n",
    "\n",
    "    for i in range(len(tweets)):\n",
    "        terms = clean_text(tweets[i])\n",
    "        tweet_id = tweets[i].get('id')\n",
    "        \n",
    "        current_tweet_index = {}\n",
    "\n",
    "        for position, term in enumerate(terms):\n",
    "            try:\n",
    "                # if the term is already in the index for the current page (current_page_index)\n",
    "                # append the position to the corresponding list\n",
    "\n",
    "                ## START CODE\n",
    "                current_tweet_index[term][1].append(position)  \n",
    "            except:\n",
    "                # Add the new term as dict key and initialize the array of positions and add the position\n",
    "                current_tweet_index[term] = [tweet_id, array('I', [position])] #'I' indicates unsigned int (int in Python)\n",
    "\n",
    "        #merge the current page index with the main index\n",
    "        for term, posting_page in current_tweet_index.items():\n",
    "            index[term].append(posting_page)\n",
    "\n",
    "        ## END CODE                    \n",
    "\n",
    "    return index, tweet_id"
   ]
  },
  {
   "cell_type": "code",
   "execution_count": 50,
   "metadata": {},
   "outputs": [
    {
     "name": "stdout",
     "output_type": "stream",
     "text": [
      "Index results for the term 'researcher': [[1575918182698979328, array('I', [0, 1, 2, 3, 7])], [1575917476382056449, array('I', [8])], [1575915939505184768, array('I', [1])], [1575915819477139456, array('I', [8, 9])], [1575915123633373184, array('I', [10])], [1575914072499195904, array('I', [5])], [1575913923215171584, array('I', [8])], [1575913665383272449, array('I', [20])], [1575913024145145856, array('I', [15])], [1575911778906968064, array('I', [9])], [1575911658232242177, array('I', [1])], [1575911622152888320, array('I', [22])], [1575911243382083585, array('I', [7, 13])], [1575911081914105857, array('I', [10])], [1575910656234074112, array('I', [9])], [1575910276175892480, array('I', [10])], [1575910161222619136, array('I', [16])], [1575910120021962752, array('I', [6])], [1575909716072755200, array('I', [9])], [1575909471234277391, array('I', [2])], [1575907941433032704, array('I', [4])], [1575907687803817984, array('I', [15])], [1575906892848967681, array('I', [2])], [1575906830420787214, array('I', [5])], [1575906086778871810, array('I', [5])], [1575905701196881920, array('I', [5])], [1575905592492687360, array('I', [17])], [1575903767446564864, array('I', [6])], [1575903325140172800, array('I', [6])], [1575903222681989121, array('I', [7])], [1575903201928556544, array('I', [3])], [1575901913467432960, array('I', [1])], [1575900980704870400, array('I', [8])], [1575900972995710976, array('I', [8, 15])], [1575899535934488581, array('I', [14])], [1575897716797763585, array('I', [11])], [1575897501097263106, array('I', [12])], [1575897314652262400, array('I', [1])], [1575896407965241344, array('I', [1])], [1575895963176259585, array('I', [6])], [1575894996108120064, array('I', [0])], [1575894492443336714, array('I', [0])], [1575893492521385985, array('I', [6])], [1575891637120532480, array('I', [3])], [1575890093977571329, array('I', [7])], [1575887866437042184, array('I', [4])], [1575887548039036933, array('I', [10])], [1575886973054734339, array('I', [3])], [1575884736236773376, array('I', [7])], [1575884051986239493, array('I', [19])], [1575884036492431360, array('I', [7])], [1575883508060299265, array('I', [5])], [1575883288471822336, array('I', [10])], [1575883032916959232, array('I', [2])], [1575879643747340293, array('I', [15])], [1575878686380728320, array('I', [2, 6])], [1575878244242530305, array('I', [1, 11])], [1575877130462064640, array('I', [3])], [1575876492076408832, array('I', [1, 7])], [1575876000671408128, array('I', [10])], [1575875350973730816, array('I', [1])], [1575874664446169088, array('I', [12])], [1575873637227585536, array('I', [6])], [1575873346696523776, array('I', [3])], [1575873165586464769, array('I', [8])], [1575873141880295427, array('I', [4])], [1575872229283622912, array('I', [0])], [1575871955659808769, array('I', [0])], [1575871778387537920, array('I', [7])], [1575871613890924544, array('I', [2])], [1575870620268908546, array('I', [1])], [1575869793705525252, array('I', [5])], [1575869615758266369, array('I', [1])], [1575869469141782529, array('I', [7])], [1575868617798787075, array('I', [20])], [1575862643122147330, array('I', [5])], [1575861035138895874, array('I', [19])], [1575860974959185920, array('I', [16])], [1575860716518535168, array('I', [0])], [1575860446841622528, array('I', [3])], [1575859942653046784, array('I', [6, 21])], [1575856461988642816, array('I', [6])]]\n",
      "\n",
      "First 10 Index results for the term 'research': \n",
      "[[1575918182698979328, array('I', [0, 1, 2, 3, 7])], [1575917476382056449, array('I', [8])], [1575915939505184768, array('I', [1])], [1575915819477139456, array('I', [8, 9])], [1575915123633373184, array('I', [10])], [1575914072499195904, array('I', [5])], [1575913923215171584, array('I', [8])], [1575913665383272449, array('I', [20])], [1575913024145145856, array('I', [15])], [1575911778906968064, array('I', [9])]]\n"
     ]
    }
   ],
   "source": [
    "index, title_index = create_index(tweets)\n",
    "\n",
    "print(\"Index results for the term 'researcher': {}\\n\".format(index['house']))\n",
    "print(\"First 10 Index results for the term 'research': \\n{}\".format(index['house'][:10]))"
   ]
  },
  {
   "cell_type": "code",
   "execution_count": 51,
   "metadata": {},
   "outputs": [],
   "source": [
    "#create_index(tweets)"
   ]
  },
  {
   "cell_type": "code",
   "execution_count": null,
   "metadata": {},
   "outputs": [],
   "source": []
  }
 ],
 "metadata": {
  "kernelspec": {
   "display_name": "Python 3.8.10 64-bit",
   "language": "python",
   "name": "python3"
  },
  "language_info": {
   "codemirror_mode": {
    "name": "ipython",
    "version": 3
   },
   "file_extension": ".py",
   "mimetype": "text/x-python",
   "name": "python",
   "nbconvert_exporter": "python",
   "pygments_lexer": "ipython3",
   "version": "3.8.10"
  },
  "vscode": {
   "interpreter": {
    "hash": "916dbcbb3f70747c44a77c7bcd40155683ae19c65e1c03b4aa3499c5328201f1"
   }
  }
 },
 "nbformat": 4,
 "nbformat_minor": 4
}
