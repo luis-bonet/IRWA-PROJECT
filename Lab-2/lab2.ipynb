{
 "cells": [
  {
   "cell_type": "code",
   "execution_count": 12,
   "metadata": {},
   "outputs": [
    {
     "name": "stderr",
     "output_type": "stream",
     "text": [
      "[nltk_data] Downloading package stopwords to /home/alfa/nltk_data...\n",
      "[nltk_data]   Package stopwords is already up-to-date!\n"
     ]
    },
    {
     "data": {
      "text/plain": [
       "True"
      ]
     },
     "execution_count": 12,
     "metadata": {},
     "output_type": "execute_result"
    }
   ],
   "source": [
    "import nltk\n",
    "nltk.download('stopwords')"
   ]
  },
  {
   "cell_type": "code",
   "execution_count": 13,
   "metadata": {},
   "outputs": [],
   "source": [
    "from collections import defaultdict\n",
    "from array import array\n",
    "from nltk.stem import PorterStemmer\n",
    "from nltk.corpus import stopwords\n",
    "import math\n",
    "import numpy as np\n",
    "import collections\n",
    "import time \n",
    "import json\n",
    "import re\n",
    "from numpy import linalg as la"
   ]
  },
  {
   "cell_type": "code",
   "execution_count": 14,
   "metadata": {},
   "outputs": [],
   "source": [
    "#This function will clean our text from data that is not important so that has no weight \n",
    "def clean_text(tweet):\n",
    "    stemmer = PorterStemmer()\n",
    "    stop_words = set(stopwords.words(\"english\"))\n",
    "    \n",
    "    tweet = tweet.lower() # Transform in lowercase\n",
    "\n",
    "    tweet = re.sub(r'@[a-zA-Z]+', '', tweet) # Here we remove the mentions in the tweet ex: @canodep\n",
    "    tweet = re.sub(r\"\\B#([a-z0-9]{2,})(?![~!@#$%^&*()=+_`\\-\\|\\/'\\[\\]\\{\\}]|[?.,]*\\w)\", '', tweet) # Here we remove the hashtags, because we will treat it later\n",
    "    tweet = re.sub(r'[^\\w\\s]', '', tweet) # Here we remove punctuation marks\n",
    "    tweet = re.sub(r'http\\S+', '',tweet) # Remove http and https\n",
    "    tweet = tweet.split() # Tokenize the text to get a list of terms\n",
    "\n",
    "    tweet = [word for word in tweet if word not in stop_words]  # eliminate the stopwords\n",
    "    tweet = [stemmer.stem(word) for word in tweet] # Perform stemming \n",
    "    return tweet\n",
    "    \n"
   ]
  },
  {
   "cell_type": "code",
   "execution_count": 15,
   "metadata": {},
   "outputs": [],
   "source": [
    "docs_path = 'data/tw_hurricane_data.json'\n",
    "tweets_title = 'data/tweet_document_ids_map.csv'\n",
    "\n",
    "tweets_id_title = {}\n",
    "\n",
    "with open(tweets_title) as fp:\n",
    "    lines = fp.readlines()\n",
    "\n",
    "\n",
    "for l in lines:\n",
    "    l = l.strip().split(\"\\t\")\n",
    "    tweets_id_title[int(l[1])] =  l[0]\n",
    "\n",
    "\n",
    "tweets = []\n",
    "lines = []\n",
    "\n",
    "for line in open(docs_path, 'r'):\n",
    "    lines.append(line)\n",
    "    #media = json.loads(line).get('entities').get('media')\n",
    "    tweets.append({\n",
    "        'id' : int(json.loads(line).get('id')),\n",
    "        'title' : tweets_id_title[int(json.loads(line).get('id'))],\n",
    "        'text': clean_text(json.loads(line).get('full_text')),\n",
    "        'username' : json.loads(line).get('user').get('screen_name'),\n",
    "        'date' : json.loads(line).get('created_at'),\n",
    "        'hashtag' : list(map(lambda hashtag:  hashtag.get('text'),  json.loads(line).get('entities').get('hashtags'))),\n",
    "        'like' : json.loads(line).get('favorite_count'),\n",
    "        'rt' : json.loads(line).get('retweet_count'),\n",
    "        'URL' : 'https://twitter.com/' + json.loads(line).get('user').get('screen_name') + \"/status/\" + str(json.loads(line).get('id'))\n",
    "    }) \n"
   ]
  },
  {
   "cell_type": "code",
   "execution_count": 16,
   "metadata": {},
   "outputs": [],
   "source": [
    "def create_index(tweets):\n",
    "    \"\"\"\n",
    "    Implement the inverted index\n",
    "    \n",
    "    Argument:\n",
    "    lines -- collection of Wikipedia articles\n",
    "    \n",
    "    Returns:\n",
    "    index - the inverted index (implemented through a Python dictionary) containing terms as keys and the corresponding\n",
    "    list of documents where these keys appears in (and the positions) as values.\n",
    "    \"\"\"\n",
    "    index = defaultdict(list)    \n",
    "\n",
    "    for i in range(len(tweets)):\n",
    "        terms = tweets[i].get(\"text\")\n",
    "        tweet_id = tweets[i].get('id')\n",
    "\n",
    "        tweet_title = tweets_id_title[tweet_id]\n",
    "\n",
    "        current_tweet_index = {}\n",
    "\n",
    "        for position, term in enumerate(terms):\n",
    "            try:\n",
    "                # if the term is already in the index for the current page (current_page_index)\n",
    "                # append the position to the corresponding list\n",
    "\n",
    "                ## START CODE\n",
    "                current_tweet_index[term][1].append(position)  \n",
    "            except:\n",
    "                # Add the new term as dict key and initialize the array of positions and add the position\n",
    "                current_tweet_index[term] = [tweet_title, array('I', [position])] #'I' indicates unsigned int (int in Python)\n",
    "\n",
    "        #merge the current page index with the main index\n",
    "        for term, posting_page in current_tweet_index.items():\n",
    "            index[term].append(posting_page)\n",
    "        ## END CODE                    \n",
    "\n",
    "    return index"
   ]
  },
  {
   "cell_type": "code",
   "execution_count": 17,
   "metadata": {},
   "outputs": [
    {
     "name": "stdout",
     "output_type": "stream",
     "text": [
      "Index results for the term 'researcher': []\n",
      "\n",
      "First 10 Index results for the term 'research': \n",
      "[['doc_1', array('I', [0, 1])], ['doc_220', array('I', [8])], ['doc_405', array('I', [8])], ['doc_1354', array('I', [1])], ['doc_1612', array('I', [2])], ['doc_2026', array('I', [6])], ['doc_2600', array('I', [9])], ['doc_2748', array('I', [11])], ['doc_3132', array('I', [2])], ['doc_3307', array('I', [5])]]\n"
     ]
    }
   ],
   "source": [
    "index = create_index(tweets)\n",
    "\n",
    "print(\"Index results for the term 'researcher': {}\\n\".format(index['researcher']))\n",
    "print(\"First 10 Index results for the term 'research': \\n{}\".format(index['research'][:10]))"
   ]
  },
  {
   "cell_type": "code",
   "execution_count": 18,
   "metadata": {},
   "outputs": [],
   "source": [
    "def search(query, index):\n",
    "    \"\"\"\n",
    "    The output is the list of documents that contain any of the query terms. \n",
    "    So, we will get the list of documents for each query term, and take the union of them.\n",
    "    \"\"\"\n",
    "    query = clean_text(query)\n",
    "    docs = set()\n",
    "    for term in query:\n",
    "        try:\n",
    "            # store in term_docs the ids of the docs that contain \"term\"\n",
    "            term_docs = [posting[0] for posting in index[term]]\n",
    "            # docs = docs Union term_docs\n",
    "            docs |= set(term_docs)\n",
    "        except:\n",
    "            #term is not in index\n",
    "            pass\n",
    "    docs = list(docs)\n",
    "    return docs"
   ]
  },
  {
   "cell_type": "code",
   "execution_count": 19,
   "metadata": {},
   "outputs": [
    {
     "name": "stdout",
     "output_type": "stream",
     "text": [
      "\n",
      "======================\n",
      "Sample of 10 results out of 342 for the searched query:\n",
      "\n",
      "page_id= 1575877018607964160 - page_title: doc_2397\n",
      "page_id= 1575862653888729089 - page_title: doc_3544\n",
      "page_id= 1575865666522914816 - page_title: doc_3288\n",
      "page_id= 1575861762959630336 - page_title: doc_3606\n",
      "page_id= 1575876590994485253 - page_title: doc_2433\n",
      "page_id= 1575875350973730816 - page_title: doc_2535\n",
      "page_id= 1575868580398342144 - page_title: doc_3071\n",
      "page_id= 1575888829482795025 - page_title: doc_1827\n",
      "page_id= 1575875563247792128 - page_title: doc_2517\n",
      "page_id= 1575874815432744960 - page_title: doc_2573\n",
      "\n",
      "======================\n",
      "Sample of 10 results out of 819 for the searched query:\n",
      "\n",
      "page_id= 1575877018607964160 - page_title: doc_2397\n",
      "page_id= 1575864531007725568 - page_title: doc_3384\n",
      "page_id= 1575865977182437376 - page_title: doc_3266\n",
      "page_id= 1575901764091772929 - page_title: doc_1286\n",
      "page_id= 1575917821560864782 - page_title: doc_25\n",
      "page_id= 1575859337167249411 - page_title: doc_3761\n",
      "page_id= 1575917131564097536 - page_title: doc_73\n",
      "page_id= 1575878318020247553 - page_title: doc_2318\n",
      "page_id= 1575863070466789381 - page_title: doc_3514\n",
      "page_id= 1575876075439235075 - page_title: doc_2473\n",
      "\n",
      "======================\n",
      "Sample of 10 results out of 485 for the searched query:\n",
      "\n",
      "page_id= 1575863070466789381 - page_title: doc_3514\n",
      "page_id= 1575893775347765249 - page_title: doc_1629\n",
      "page_id= 1575909653867040768 - page_title: doc_704\n",
      "page_id= 1575914662537101312 - page_title: doc_275\n",
      "page_id= 1575872350159077376 - page_title: doc_2747\n",
      "page_id= 1575871955659808769 - page_title: doc_2775\n",
      "page_id= 1575911054454013981 - page_title: doc_572\n",
      "page_id= 1575907532656328717 - page_title: doc_918\n",
      "page_id= 1575904344834445312 - page_title: doc_1112\n",
      "page_id= 1575874380336332800 - page_title: doc_2607\n",
      "\n",
      "======================\n",
      "Sample of 10 results out of 1072 for the searched query:\n",
      "\n",
      "page_id= 1575864531007725568 - page_title: doc_3384\n",
      "page_id= 1575878666403266560 - page_title: doc_2295\n",
      "page_id= 1575889330689540101 - page_title: doc_1808\n",
      "page_id= 1575892609893281792 - page_title: doc_1676\n",
      "page_id= 1575898721002606592 - page_title: doc_1430\n",
      "page_id= 1575876613648142336 - page_title: doc_2431\n",
      "page_id= 1575885432222621696 - page_title: doc_1975\n",
      "page_id= 1575905823582216192 - page_title: doc_1027\n",
      "page_id= 1575878318020247553 - page_title: doc_2318\n",
      "page_id= 1575863052150657024 - page_title: doc_3518\n",
      "\n",
      "======================\n",
      "Sample of 10 results out of 576 for the searched query:\n",
      "\n",
      "page_id= 1575877018607964160 - page_title: doc_2397\n",
      "page_id= 1575865666522914816 - page_title: doc_3288\n",
      "page_id= 1575861762959630336 - page_title: doc_3606\n",
      "page_id= 1575863070466789381 - page_title: doc_3514\n",
      "page_id= 1575893775347765249 - page_title: doc_1629\n",
      "page_id= 1575888829482795025 - page_title: doc_1827\n",
      "page_id= 1575909653867040768 - page_title: doc_704\n",
      "page_id= 1575870620268908546 - page_title: doc_2891\n",
      "page_id= 1575911169344167936 - page_title: doc_561\n",
      "page_id= 1575910564873789440 - page_title: doc_615\n"
     ]
    }
   ],
   "source": [
    "#print(\"Insert your query (i.e.: Computer Science):\\n\")\n",
    "#query = input()\n",
    "#docs = search(query, index)\n",
    "#top = 10\n",
    "\n",
    "#print(\"\\n======================\\nSample of {} results out of {} for the searched query:\\n\".format(top, len(docs)))\n",
    "\n",
    "#for d_id in docs[:top]:\n",
    "#    print(\"page_id= {} - page_title: {}\".format(list(tweets_id_title.keys())[list(tweets_id_title.values()).index(d_id)], d_id))\n",
    "\n",
    "\n",
    "\n",
    "query = \"My house floods\"\n",
    "docs = search(query, index)\n",
    "top = 10\n",
    "\n",
    "print(\"\\n======================\\nSample of {} results out of {} for the searched query:\\n\".format(top, len(docs)))\n",
    "\n",
    "for d_id in docs[:top]:\n",
    "    print(\"page_id= {} - page_title: {}\".format(list(tweets_id_title.keys())[list(tweets_id_title.values()).index(d_id)], d_id))\n",
    "\n",
    "\n",
    "\n",
    "query = \"I am scared to death, a hurricane is coming to my city\"\n",
    "docs = search(query, index)\n",
    "top = 10\n",
    "\n",
    "print(\"\\n======================\\nSample of {} results out of {} for the searched query:\\n\".format(top, len(docs)))\n",
    "\n",
    "for d_id in docs[:top]:\n",
    "    print(\"page_id= {} - page_title: {}\".format(list(tweets_id_title.keys())[list(tweets_id_title.values()).index(d_id)], d_id))\n",
    "\n",
    "query = \"Landfall in South Carolina\"\n",
    "docs = search(query, index)\n",
    "top = 10\n",
    "\n",
    "print(\"\\n======================\\nSample of {} results out of {} for the searched query:\\n\".format(top, len(docs)))\n",
    "\n",
    "for d_id in docs[:top]:\n",
    "    print(\"page_id= {} - page_title: {}\".format(list(tweets_id_title.keys())[list(tweets_id_title.values()).index(d_id)], d_id))\n",
    "\n",
    "query = \"Help and recovery during the hurricane disaster\"\n",
    "docs = search(query, index)\n",
    "top = 10\n",
    "\n",
    "print(\"\\n======================\\nSample of {} results out of {} for the searched query:\\n\".format(top, len(docs)))\n",
    "\n",
    "for d_id in docs[:top]:\n",
    "    print(\"page_id= {} - page_title: {}\".format(list(tweets_id_title.keys())[list(tweets_id_title.values()).index(d_id)], d_id))\n",
    "\n",
    "\n",
    "query = \"Floodings in South Carolina\"\n",
    "docs = search(query, index)\n",
    "top = 10\n",
    "\n",
    "print(\"\\n======================\\nSample of {} results out of {} for the searched query:\\n\".format(top, len(docs)))\n",
    "\n",
    "for d_id in docs[:top]:\n",
    "    print(\"page_id= {} - page_title: {}\".format(list(tweets_id_title.keys())[list(tweets_id_title.values()).index(d_id)], d_id))\n",
    "    "
   ]
  },
  {
   "cell_type": "code",
   "execution_count": 20,
   "metadata": {},
   "outputs": [
    {
     "name": "stdout",
     "output_type": "stream",
     "text": [
      "\n",
      "======================\n",
      "Sample of 10 results out of 342 for the searched query:\n",
      "\n",
      "page_id= 1575877018607964160 - page_title: doc_2397\n",
      "page_id= 1575862653888729089 - page_title: doc_3544\n",
      "page_id= 1575865666522914816 - page_title: doc_3288\n",
      "page_id= 1575861762959630336 - page_title: doc_3606\n",
      "page_id= 1575876590994485253 - page_title: doc_2433\n",
      "page_id= 1575875350973730816 - page_title: doc_2535\n",
      "page_id= 1575868580398342144 - page_title: doc_3071\n",
      "page_id= 1575888829482795025 - page_title: doc_1827\n",
      "page_id= 1575875563247792128 - page_title: doc_2517\n",
      "page_id= 1575874815432744960 - page_title: doc_2573\n",
      "\n",
      "======================\n",
      "Sample of 10 results out of 819 for the searched query:\n",
      "\n",
      "page_id= 1575877018607964160 - page_title: doc_2397\n",
      "page_id= 1575864531007725568 - page_title: doc_3384\n",
      "page_id= 1575865977182437376 - page_title: doc_3266\n",
      "page_id= 1575901764091772929 - page_title: doc_1286\n",
      "page_id= 1575917821560864782 - page_title: doc_25\n",
      "page_id= 1575859337167249411 - page_title: doc_3761\n",
      "page_id= 1575917131564097536 - page_title: doc_73\n",
      "page_id= 1575878318020247553 - page_title: doc_2318\n",
      "page_id= 1575863070466789381 - page_title: doc_3514\n",
      "page_id= 1575876075439235075 - page_title: doc_2473\n",
      "\n",
      "======================\n",
      "Sample of 10 results out of 485 for the searched query:\n",
      "\n",
      "page_id= 1575863070466789381 - page_title: doc_3514\n",
      "page_id= 1575893775347765249 - page_title: doc_1629\n",
      "page_id= 1575909653867040768 - page_title: doc_704\n",
      "page_id= 1575914662537101312 - page_title: doc_275\n",
      "page_id= 1575872350159077376 - page_title: doc_2747\n",
      "page_id= 1575871955659808769 - page_title: doc_2775\n",
      "page_id= 1575911054454013981 - page_title: doc_572\n",
      "page_id= 1575907532656328717 - page_title: doc_918\n",
      "page_id= 1575904344834445312 - page_title: doc_1112\n",
      "page_id= 1575874380336332800 - page_title: doc_2607\n",
      "\n",
      "======================\n",
      "Sample of 10 results out of 1072 for the searched query:\n",
      "\n",
      "page_id= 1575864531007725568 - page_title: doc_3384\n",
      "page_id= 1575878666403266560 - page_title: doc_2295\n",
      "page_id= 1575889330689540101 - page_title: doc_1808\n",
      "page_id= 1575892609893281792 - page_title: doc_1676\n",
      "page_id= 1575898721002606592 - page_title: doc_1430\n",
      "page_id= 1575876613648142336 - page_title: doc_2431\n",
      "page_id= 1575885432222621696 - page_title: doc_1975\n",
      "page_id= 1575905823582216192 - page_title: doc_1027\n",
      "page_id= 1575878318020247553 - page_title: doc_2318\n",
      "page_id= 1575863052150657024 - page_title: doc_3518\n",
      "\n",
      "======================\n",
      "Sample of 10 results out of 576 for the searched query:\n",
      "\n",
      "page_id= 1575877018607964160 - page_title: doc_2397\n",
      "page_id= 1575865666522914816 - page_title: doc_3288\n",
      "page_id= 1575861762959630336 - page_title: doc_3606\n",
      "page_id= 1575863070466789381 - page_title: doc_3514\n",
      "page_id= 1575893775347765249 - page_title: doc_1629\n",
      "page_id= 1575888829482795025 - page_title: doc_1827\n",
      "page_id= 1575909653867040768 - page_title: doc_704\n",
      "page_id= 1575870620268908546 - page_title: doc_2891\n",
      "page_id= 1575911169344167936 - page_title: doc_561\n",
      "page_id= 1575910564873789440 - page_title: doc_615\n"
     ]
    }
   ],
   "source": [
    "#print(\"Insert your query (i.e.: Computer Science):\\n\")\n",
    "#query = input()\n",
    "#docs = search(query, index)\n",
    "#top = 10\n",
    "\n",
    "#print(\"\\n======================\\nSample of {} results out of {} for the searched query:\\n\".format(top, len(docs)))\n",
    "\n",
    "#for d_id in docs[:top]:\n",
    "#    print(\"page_id= {} - page_title: {}\".format(list(tweets_id_title.keys())[list(tweets_id_title.values()).index(d_id)], d_id))\n",
    "\n",
    "\n",
    "\n",
    "query = \"My house floods\"\n",
    "docs = search(query, index)\n",
    "top = 10\n",
    "\n",
    "print(\"\\n======================\\nSample of {} results out of {} for the searched query:\\n\".format(top, len(docs)))\n",
    "\n",
    "for d_id in docs[:top]:\n",
    "    print(\"page_id= {} - page_title: {}\".format(list(tweets_id_title.keys())[list(tweets_id_title.values()).index(d_id)], d_id))\n",
    "\n",
    "\n",
    "\n",
    "query = \"I am scared to death, a hurricane is coming to my city\"\n",
    "docs = search(query, index)\n",
    "top = 10\n",
    "\n",
    "print(\"\\n======================\\nSample of {} results out of {} for the searched query:\\n\".format(top, len(docs)))\n",
    "\n",
    "for d_id in docs[:top]:\n",
    "    print(\"page_id= {} - page_title: {}\".format(list(tweets_id_title.keys())[list(tweets_id_title.values()).index(d_id)], d_id))\n",
    "\n",
    "query = \"Landfall in South Carolina\"\n",
    "docs = search(query, index)\n",
    "top = 10\n",
    "\n",
    "print(\"\\n======================\\nSample of {} results out of {} for the searched query:\\n\".format(top, len(docs)))\n",
    "\n",
    "for d_id in docs[:top]:\n",
    "    print(\"page_id= {} - page_title: {}\".format(list(tweets_id_title.keys())[list(tweets_id_title.values()).index(d_id)], d_id))\n",
    "\n",
    "query = \"Help and recovery during the hurricane disaster\"\n",
    "docs = search(query, index)\n",
    "top = 10\n",
    "\n",
    "print(\"\\n======================\\nSample of {} results out of {} for the searched query:\\n\".format(top, len(docs)))\n",
    "\n",
    "for d_id in docs[:top]:\n",
    "    print(\"page_id= {} - page_title: {}\".format(list(tweets_id_title.keys())[list(tweets_id_title.values()).index(d_id)], d_id))\n",
    "\n",
    "\n",
    "query = \"Floodings in South Carolina\"\n",
    "docs = search(query, index)\n",
    "top = 10\n",
    "\n",
    "print(\"\\n======================\\nSample of {} results out of {} for the searched query:\\n\".format(top, len(docs)))\n",
    "\n",
    "for d_id in docs[:top]:\n",
    "    print(\"page_id= {} - page_title: {}\".format(list(tweets_id_title.keys())[list(tweets_id_title.values()).index(d_id)], d_id))\n",
    "    "
   ]
  },
  {
   "cell_type": "code",
   "execution_count": 21,
   "metadata": {},
   "outputs": [],
   "source": [
    "def create_index_tfidf(tweets, num_docs):\n",
    "    index = defaultdict(list)\n",
    "    tf = defaultdict(list)  # term frequencies of terms in documents (documents in the same order as in the main index)\n",
    "    df = defaultdict(int)  # document frequencies of terms in the corpus\n",
    "    title_index = defaultdict(str)\n",
    "    idf = defaultdict(float)\n",
    "\n",
    "    for tweet in tweets:\n",
    "        tweet_id = tweet['id']\n",
    "        terms = tweet['text']\n",
    "        title = tweet['title']\n",
    "        title_index[tweet_id] = title\n",
    "\n",
    "        current_page_index = {}\n",
    "\n",
    "        for position, term in enumerate(terms):\n",
    "            try:\n",
    "                current_page_index[term][1].append(position)\n",
    "            except:\n",
    "                current_page_index[term] = [tweet_id, array('I', [position])]\n",
    "        norm = 0\n",
    "        for term, posting in current_page_index.items():\n",
    "            norm += len(posting[1]) ** 2\n",
    "        norm = math.sqrt(norm)\n",
    "\n",
    "        for term, posting in current_page_index.items():\n",
    "            tf[term].append((tweet_id, np.round(len(posting[1])) / norm, 4))\n",
    "            df[term] = 1\n",
    "\n",
    "        for term, posting in current_page_index.items():\n",
    "            index[term].append(posting)\n",
    "\n",
    "        for term in df:\n",
    "            idf[term] = np.round(np.log(float(num_docs / df[term])), 4)\n",
    "\n",
    "    return index, tf, df, idf, title_index\n"
   ]
  },
  {
   "cell_type": "code",
   "execution_count": 22,
   "metadata": {},
   "outputs": [
    {
     "name": "stdout",
     "output_type": "stream",
     "text": [
      "Total time to create the index: 97.5 seconds\n"
     ]
    }
   ],
   "source": [
    "start_time = time.time()\n",
    "num_documents = len(tweets)\n",
    "index, tf, df, idf, title_index = create_index_tfidf(tweets, num_documents)\n",
    "print(\"Total time to create the index: {} seconds\" .format(np.round(time.time() - start_time, 2)))"
   ]
  },
  {
   "cell_type": "code",
   "execution_count": 23,
   "metadata": {},
   "outputs": [],
   "source": [
    "def search_tf_idf(query, index):\n",
    "    terms = clean_text(query)\n",
    "    docs = set()\n",
    "    for term in terms:\n",
    "        try:\n",
    "            term_docs= [posting[0] for posting in index[term]]\n",
    "            docs |= set(term_docs)\n",
    "        except:\n",
    "            pass\n",
    "    docs = list(docs)\n",
    "    return rank_documents(terms, docs, index, idf, tf, title_index)"
   ]
  },
  {
   "cell_type": "code",
   "execution_count": 24,
   "metadata": {},
   "outputs": [],
   "source": [
    "def rank_documents(terms, docs, index, idf, tf, title_index):\n",
    "    doc_vectors = defaultdict(lambda: [0] * len(terms))\n",
    "    query_vector = [0] * len(terms)\n",
    "\n",
    "    query_terms_count = collections.Counter(terms)\n",
    "\n",
    "    query_norm = la.norm(list(query_terms_count.values()))\n",
    "\n",
    "    for termIndex, term in enumerate(terms):\n",
    "        if term not in index:\n",
    "            continue\n",
    "\n",
    "        query_vector[termIndex] = query_terms_count[term] / query_norm * idf[term]\n",
    "\n",
    "        for doc_index, (doc, postings) in enumerate(index[term]):\n",
    "            if doc in docs:\n",
    "                doc_vectors[doc][termIndex] = idf[term] * tf[term][doc_index][1]\n",
    "\n",
    "    doc_scores = [[np.dot(curDocVec, query_vector), doc] for doc, curDocVec in doc_vectors.items()]\n",
    "\n",
    "    doc_scores.sort(reverse=True)\n",
    "    result_docs = [doc for score, doc in doc_scores]\n",
    "\n",
    "    if len(result_docs) == 0:\n",
    "        print(\"No documents found for the given query!\")\n",
    "        query = input()\n",
    "        result_docs = search_tf_idf(query, index)\n",
    "\n",
    "    return doc_scores\n"
   ]
  },
  {
   "cell_type": "code",
   "execution_count": 25,
   "metadata": {},
   "outputs": [
    {
     "name": "stdout",
     "output_type": "stream",
     "text": [
      "Insert your query (i.e.: Computer Science):\n",
      "\n",
      "\n",
      "======================\n",
      "Top 10 results out of 385 for the searched query:\n",
      "\n",
      "tweet_id= 1575897763736330242 - page_title: doc_1458, doc_score: 52.00068178162995\n",
      "tweet_id= 1575912174131630080 - page_title: doc_477, doc_score: 48.642183776379206\n",
      "tweet_id= 1575863229548752897 - page_title: doc_3495, doc_score: 48.642183776379206\n",
      "tweet_id= 1575900431573651456 - page_title: doc_1374, doc_score: 45.86029066666667\n",
      "tweet_id= 1575892486484017155 - page_title: doc_1679, doc_score: 45.86029066666667\n",
      "tweet_id= 1575869807953592324 - page_title: doc_2964, doc_score: 41.48219370490119\n",
      "tweet_id= 1575901596680359938 - page_title: doc_1301, doc_score: 39.71617674227173\n",
      "tweet_id= 1575884103056080898 - page_title: doc_2027, doc_score: 39.71617674227173\n",
      "tweet_id= 1575856919931105280 - page_title: doc_3952, doc_score: 39.71617674227173\n",
      "tweet_id= 1575862439358631936 - page_title: doc_3560, doc_score: 38.15806834761907\n"
     ]
    }
   ],
   "source": [
    "print(\"Insert your query (i.e.: Computer Science):\\n\")\n",
    "query = input()\n",
    "ranked_docs = search_tf_idf(query, index)\n",
    "top = 10\n",
    "\n",
    "print(\"\\n======================\\nTop {} results out of {} for the searched query:\\n\".format(top, len(ranked_docs)))\n",
    "for d_id in ranked_docs[:top]:\n",
    "        print(\"tweet_id= {} - page_title: {}, doc_score: {}\".format(d_id[1], tweets_id_title[d_id[1]], d_id[0]))\n"
   ]
  },
  {
   "cell_type": "markdown",
   "metadata": {},
   "source": [
    "# Evaluation with Rank-Based Metrics\n"
   ]
  },
  {
   "cell_type": "code",
   "execution_count": 26,
   "metadata": {},
   "outputs": [],
   "source": [
    "import numpy as np\n",
    "import pandas as pd"
   ]
  },
  {
   "cell_type": "code",
   "execution_count": 27,
   "metadata": {},
   "outputs": [
    {
     "data": {
      "text/html": [
       "<div>\n",
       "<style scoped>\n",
       "    .dataframe tbody tr th:only-of-type {\n",
       "        vertical-align: middle;\n",
       "    }\n",
       "\n",
       "    .dataframe tbody tr th {\n",
       "        vertical-align: top;\n",
       "    }\n",
       "\n",
       "    .dataframe thead th {\n",
       "        text-align: right;\n",
       "    }\n",
       "</style>\n",
       "<table border=\"1\" class=\"dataframe\">\n",
       "  <thead>\n",
       "    <tr style=\"text-align: right;\">\n",
       "      <th></th>\n",
       "      <th>doc</th>\n",
       "      <th>query_id</th>\n",
       "      <th>label</th>\n",
       "    </tr>\n",
       "  </thead>\n",
       "  <tbody>\n",
       "    <tr>\n",
       "      <th>0</th>\n",
       "      <td>doc_12</td>\n",
       "      <td>1</td>\n",
       "      <td>1</td>\n",
       "    </tr>\n",
       "    <tr>\n",
       "      <th>1</th>\n",
       "      <td>doc_9</td>\n",
       "      <td>1</td>\n",
       "      <td>1</td>\n",
       "    </tr>\n",
       "    <tr>\n",
       "      <th>2</th>\n",
       "      <td>doc_18</td>\n",
       "      <td>1</td>\n",
       "      <td>1</td>\n",
       "    </tr>\n",
       "    <tr>\n",
       "      <th>3</th>\n",
       "      <td>doc_45</td>\n",
       "      <td>1</td>\n",
       "      <td>1</td>\n",
       "    </tr>\n",
       "    <tr>\n",
       "      <th>4</th>\n",
       "      <td>doc_501</td>\n",
       "      <td>1</td>\n",
       "      <td>1</td>\n",
       "    </tr>\n",
       "  </tbody>\n",
       "</table>\n",
       "</div>"
      ],
      "text/plain": [
       "       doc  query_id  label\n",
       "0   doc_12         1      1\n",
       "1    doc_9         1      1\n",
       "2   doc_18         1      1\n",
       "3   doc_45         1      1\n",
       "4  doc_501         1      1"
      ]
     },
     "execution_count": 27,
     "metadata": {},
     "output_type": "execute_result"
    }
   ],
   "source": [
    "search_results = pd.read_csv(\"data/evaluation_gt.csv\")\n",
    "search_results.head()"
   ]
  },
  {
   "cell_type": "code",
   "execution_count": 28,
   "metadata": {},
   "outputs": [
    {
     "name": "stdout",
     "output_type": "stream",
     "text": [
      "The ground truth of our dataset is composed of 2 Relevance Levels: [0, 1]\n"
     ]
    }
   ],
   "source": [
    "print_result = search_results[\"label\"].unique()\n",
    "print(\"The ground truth of our dataset is composed of {} Relevance Levels: {}\".format(len(print_result), sorted(print_result)))"
   ]
  },
  {
   "cell_type": "code",
   "execution_count": 29,
   "metadata": {},
   "outputs": [],
   "source": [
    "search_results[\"is_relevant\"] = search_results[\"label\"].apply(lambda y: 1 if y >= 1 else 0)\n",
    "search_results.head()\n",
    "\n",
    "doc_scores = search_tf_idf(\"Landfall in South Carolina\", index)\n",
    "result_docs = []\n",
    "for score, doc in doc_scores:\n",
    "    if(doc in tweets_id_title.keys()):\n",
    "        result_docs.append([tweets_id_title[doc], score])\n",
    "\n",
    "results_df = pd.DataFrame(result_docs, columns=[\"doc_title\", \"predicted_relevance\"])\n",
    "search_results = pd.merge(search_results, results_df ,left_on='doc',right_on='doc_title', how='inner')\n"
   ]
  },
  {
   "cell_type": "code",
   "execution_count": 30,
   "metadata": {},
   "outputs": [],
   "source": [
    "def precision_at_k(doc_score, y_score, k=10): #binary relevance, predicted relevance, k for a given query\n",
    "    \"\"\"\n",
    "    Parameters\n",
    "    ----------\n",
    "    doc_score: Ground truth (true relevance labels).\n",
    "    y_score: Predicted scores.\n",
    "    k : number of doc to consider.\n",
    "\n",
    "    Returns\n",
    "    -------\n",
    "    precision @k : float\n",
    "\n",
    "    \"\"\"\n",
    "\n",
    "    order = np.argsort(y_score)[::-1] #we get the ranking of the documents accoirding to the predicted score/ use np.argsort and [::1] to obtain the list of indexes of the predicted score sorted in descending order.\n",
    "    doc_score = np.take(doc_score, order[:k]) # align the binary relevance to the corresponding document / use the indexes of point 1 to sort the actual relevance label of the documents (hint: np.take).\n",
    "    relevant = sum(doc_score == 1) #get number of relevant documents\n",
    "\n",
    "    return float(relevant) / k #calculae precision at k, which is the number of relevant documents trieved at k"
   ]
  },
  {
   "cell_type": "code",
   "execution_count": 31,
   "metadata": {},
   "outputs": [
    {
     "name": "stdout",
     "output_type": "stream",
     "text": [
      "==> Precision@5: 1.0\n",
      "\n",
      "\n",
      "Check on the dataset sorted by score:\n",
      "\n"
     ]
    },
    {
     "name": "stderr",
     "output_type": "stream",
     "text": [
      "/tmp/ipykernel_109409/2589672236.py:16: FutureWarning: The behavior of `series[i:j]` with an integer-dtype index is deprecated. In a future version, this will be treated as *label-based* indexing, consistent with e.g. `series[i]` lookups. To retain the old behavior, use `series.iloc[i:j]`. To get the future behavior, use `series.loc[i:j]`.\n",
      "  doc_score = np.take(doc_score, order[:k]) # align the binary relevance to the corresponding document / use the indexes of point 1 to sort the actual relevance label of the documents (hint: np.take).\n"
     ]
    },
    {
     "data": {
      "text/html": [
       "<div>\n",
       "<style scoped>\n",
       "    .dataframe tbody tr th:only-of-type {\n",
       "        vertical-align: middle;\n",
       "    }\n",
       "\n",
       "    .dataframe tbody tr th {\n",
       "        vertical-align: top;\n",
       "    }\n",
       "\n",
       "    .dataframe thead th {\n",
       "        text-align: right;\n",
       "    }\n",
       "</style>\n",
       "<table border=\"1\" class=\"dataframe\">\n",
       "  <thead>\n",
       "    <tr style=\"text-align: right;\">\n",
       "      <th></th>\n",
       "      <th>doc</th>\n",
       "      <th>query_id</th>\n",
       "      <th>label</th>\n",
       "      <th>is_relevant</th>\n",
       "      <th>doc_title</th>\n",
       "      <th>predicted_relevance</th>\n",
       "    </tr>\n",
       "  </thead>\n",
       "  <tbody>\n",
       "    <tr>\n",
       "      <th>6</th>\n",
       "      <td>doc_82</td>\n",
       "      <td>1</td>\n",
       "      <td>1</td>\n",
       "      <td>1</td>\n",
       "      <td>doc_82</td>\n",
       "      <td>39.716177</td>\n",
       "    </tr>\n",
       "    <tr>\n",
       "      <th>4</th>\n",
       "      <td>doc_501</td>\n",
       "      <td>1</td>\n",
       "      <td>1</td>\n",
       "      <td>1</td>\n",
       "      <td>doc_501</td>\n",
       "      <td>34.395218</td>\n",
       "    </tr>\n",
       "    <tr>\n",
       "      <th>9</th>\n",
       "      <td>doc_165</td>\n",
       "      <td>1</td>\n",
       "      <td>1</td>\n",
       "      <td>1</td>\n",
       "      <td>doc_165</td>\n",
       "      <td>28.083578</td>\n",
       "    </tr>\n",
       "    <tr>\n",
       "      <th>7</th>\n",
       "      <td>doc_100</td>\n",
       "      <td>1</td>\n",
       "      <td>1</td>\n",
       "      <td>1</td>\n",
       "      <td>doc_100</td>\n",
       "      <td>22.125327</td>\n",
       "    </tr>\n",
       "    <tr>\n",
       "      <th>2</th>\n",
       "      <td>doc_18</td>\n",
       "      <td>1</td>\n",
       "      <td>1</td>\n",
       "      <td>1</td>\n",
       "      <td>doc_18</td>\n",
       "      <td>21.753446</td>\n",
       "    </tr>\n",
       "  </tbody>\n",
       "</table>\n",
       "</div>"
      ],
      "text/plain": [
       "       doc  query_id  label  is_relevant doc_title  predicted_relevance\n",
       "6   doc_82         1      1            1    doc_82            39.716177\n",
       "4  doc_501         1      1            1   doc_501            34.395218\n",
       "9  doc_165         1      1            1   doc_165            28.083578\n",
       "7  doc_100         1      1            1   doc_100            22.125327\n",
       "2   doc_18         1      1            1    doc_18            21.753446"
      ]
     },
     "execution_count": 31,
     "metadata": {},
     "output_type": "execute_result"
    }
   ],
   "source": [
    "#P@5= 3/5\n",
    "current_query = 1\n",
    "current_query_res = search_results[search_results[\"query_id\"] == current_query]\n",
    "k = 5\n",
    "print(\"==> Precision@{}: {}\\n\".format(k, precision_at_k(current_query_res[\"is_relevant\"], current_query_res[\"predicted_relevance\"], k)))\n",
    "print(\"\\nCheck on the dataset sorted by score:\\n\")\n",
    "#current_query_res.sort_values(\"doc_score\", ascending=False).head(k)\n",
    "current_query_res.sort_values(\"predicted_relevance\", ascending=False).head(k)"
   ]
  },
  {
   "cell_type": "code",
   "execution_count": 32,
   "metadata": {},
   "outputs": [
    {
     "name": "stdout",
     "output_type": "stream",
     "text": [
      "==> Precision@3: 1.0\n",
      "\n",
      "==> Precision@10: 1.0\n",
      "\n"
     ]
    },
    {
     "name": "stderr",
     "output_type": "stream",
     "text": [
      "/tmp/ipykernel_109409/2589672236.py:16: FutureWarning: The behavior of `series[i:j]` with an integer-dtype index is deprecated. In a future version, this will be treated as *label-based* indexing, consistent with e.g. `series[i]` lookups. To retain the old behavior, use `series.iloc[i:j]`. To get the future behavior, use `series.loc[i:j]`.\n",
      "  doc_score = np.take(doc_score, order[:k]) # align the binary relevance to the corresponding document / use the indexes of point 1 to sort the actual relevance label of the documents (hint: np.take).\n"
     ]
    }
   ],
   "source": [
    "k = 3\n",
    "print(\"==> Precision@{}: {}\\n\".format(k, precision_at_k(current_query_res[\"is_relevant\"], current_query_res[\"predicted_relevance\"], k)))\n",
    "\n",
    "k = 10\n",
    "print(\"==> Precision@{}: {}\\n\".format(k, precision_at_k(current_query_res[\"is_relevant\"], current_query_res[\"predicted_relevance\"], k)))\n",
    "\n"
   ]
  },
  {
   "cell_type": "markdown",
   "metadata": {},
   "source": [
    "#### Average Precision@K - AP@K\n"
   ]
  },
  {
   "cell_type": "code",
   "execution_count": 33,
   "metadata": {},
   "outputs": [],
   "source": [
    "def avg_precision_at_k(doc_score, y_score, k=10): #binary relevance, predicted relevance, k for a given query\n",
    "    \"\"\"\n",
    "    Parameters\n",
    "    ----------\n",
    "    doc_score: Ground truth (true relevance labels).\n",
    "    y_score: Predicted scores.\n",
    "    k : number of doc to consider.\n",
    "\n",
    "    Returns\n",
    "    -------\n",
    "    average precision @k : float\n",
    "    \"\"\"\n",
    "    gtp = np.sum(doc_score == 1) #Total number of gt positives\n",
    "    order = np.argsort(y_score)[::-1] #same as for precision\n",
    "    doc_score = np.take(doc_score, order[:k]) #same as for precision\n",
    "    ## if all documents are not relevant\n",
    "    if gtp == 0:\n",
    "        return 0\n",
    "    n_relevant_at_i = 0\n",
    "    prec_at_i = 0\n",
    "    for i in range(len(doc_score)):\n",
    "        if doc_score[i] == 1: #only add the P@k when the doc is relevant\n",
    "            n_relevant_at_i += 1\n",
    "            prec_at_i += n_relevant_at_i / (i + 1) #calculate P@K (#docs relevant at k/k)\n",
    "    return prec_at_i / gtp #return ap"
   ]
  },
  {
   "cell_type": "code",
   "execution_count": 34,
   "metadata": {},
   "outputs": [
    {
     "data": {
      "text/plain": [
       "1.0"
      ]
     },
     "execution_count": 34,
     "metadata": {},
     "output_type": "execute_result"
    }
   ],
   "source": [
    "avg_precision_at_k(np.array(current_query_res[\"is_relevant\"]), np.array(current_query_res[\"predicted_relevance\"]), 10)"
   ]
  },
  {
   "cell_type": "code",
   "execution_count": 35,
   "metadata": {},
   "outputs": [
    {
     "name": "stderr",
     "output_type": "stream",
     "text": [
      "/tmp/ipykernel_109409/2175404873.py:7: FutureWarning: The behavior of `series[i:j]` with an integer-dtype index is deprecated. In a future version, this will be treated as *label-based* indexing, consistent with e.g. `series[i]` lookups. To retain the old behavior, use `series.iloc[i:j]`. To get the future behavior, use `series.loc[i:j]`.\n",
      "  average_precision_score(np.array(temp[\"is_relevant\"]), np.array(temp[\"predicted_relevance\"][:k]))\n"
     ]
    },
    {
     "data": {
      "text/plain": [
       "1.0"
      ]
     },
     "execution_count": 35,
     "metadata": {},
     "output_type": "execute_result"
    }
   ],
   "source": [
    "# Check with 'average_precision_score' of 'sklearn' library\n",
    "\n",
    "from sklearn.metrics import average_precision_score\n",
    "\n",
    "k = 150\n",
    "temp = current_query_res.sort_values(\"predicted_relevance\", ascending=False).head(k)\n",
    "average_precision_score(np.array(temp[\"is_relevant\"]), np.array(temp[\"predicted_relevance\"][:k]))"
   ]
  },
  {
   "cell_type": "code",
   "execution_count": 36,
   "metadata": {},
   "outputs": [],
   "source": [
    "doc_score = np.array([1, 1, 0, 1, 0, 0, 1])\n",
    "y_scores = np.array([7, 6, 5, 4, 3, 2, 1])\n",
    "assert (average_precision_score(doc_score, y_scores) == avg_precision_at_k(doc_score, y_scores, 10))\n"
   ]
  },
  {
   "cell_type": "code",
   "execution_count": 37,
   "metadata": {},
   "outputs": [
    {
     "data": {
      "text/plain": [
       "1.0"
      ]
     },
     "execution_count": 37,
     "metadata": {},
     "output_type": "execute_result"
    }
   ],
   "source": [
    "avg_precision_at_k(np.array(current_query_res[\"is_relevant\"]), np.array(current_query_res[\"predicted_relevance\"]), 10)"
   ]
  },
  {
   "cell_type": "code",
   "execution_count": 38,
   "metadata": {},
   "outputs": [
    {
     "data": {
      "text/html": [
       "<div>\n",
       "<style scoped>\n",
       "    .dataframe tbody tr th:only-of-type {\n",
       "        vertical-align: middle;\n",
       "    }\n",
       "\n",
       "    .dataframe tbody tr th {\n",
       "        vertical-align: top;\n",
       "    }\n",
       "\n",
       "    .dataframe thead th {\n",
       "        text-align: right;\n",
       "    }\n",
       "</style>\n",
       "<table border=\"1\" class=\"dataframe\">\n",
       "  <thead>\n",
       "    <tr style=\"text-align: right;\">\n",
       "      <th></th>\n",
       "      <th>doc</th>\n",
       "      <th>query_id</th>\n",
       "      <th>label</th>\n",
       "      <th>is_relevant</th>\n",
       "      <th>doc_title</th>\n",
       "      <th>predicted_relevance</th>\n",
       "    </tr>\n",
       "  </thead>\n",
       "  <tbody>\n",
       "    <tr>\n",
       "      <th>6</th>\n",
       "      <td>doc_82</td>\n",
       "      <td>1</td>\n",
       "      <td>1</td>\n",
       "      <td>1</td>\n",
       "      <td>doc_82</td>\n",
       "      <td>39.716177</td>\n",
       "    </tr>\n",
       "    <tr>\n",
       "      <th>4</th>\n",
       "      <td>doc_501</td>\n",
       "      <td>1</td>\n",
       "      <td>1</td>\n",
       "      <td>1</td>\n",
       "      <td>doc_501</td>\n",
       "      <td>34.395218</td>\n",
       "    </tr>\n",
       "    <tr>\n",
       "      <th>9</th>\n",
       "      <td>doc_165</td>\n",
       "      <td>1</td>\n",
       "      <td>1</td>\n",
       "      <td>1</td>\n",
       "      <td>doc_165</td>\n",
       "      <td>28.083578</td>\n",
       "    </tr>\n",
       "    <tr>\n",
       "      <th>7</th>\n",
       "      <td>doc_100</td>\n",
       "      <td>1</td>\n",
       "      <td>1</td>\n",
       "      <td>1</td>\n",
       "      <td>doc_100</td>\n",
       "      <td>22.125327</td>\n",
       "    </tr>\n",
       "    <tr>\n",
       "      <th>2</th>\n",
       "      <td>doc_18</td>\n",
       "      <td>1</td>\n",
       "      <td>1</td>\n",
       "      <td>1</td>\n",
       "      <td>doc_18</td>\n",
       "      <td>21.753446</td>\n",
       "    </tr>\n",
       "    <tr>\n",
       "      <th>0</th>\n",
       "      <td>doc_12</td>\n",
       "      <td>1</td>\n",
       "      <td>1</td>\n",
       "      <td>1</td>\n",
       "      <td>doc_12</td>\n",
       "      <td>20.139777</td>\n",
       "    </tr>\n",
       "    <tr>\n",
       "      <th>1</th>\n",
       "      <td>doc_9</td>\n",
       "      <td>1</td>\n",
       "      <td>1</td>\n",
       "      <td>1</td>\n",
       "      <td>doc_9</td>\n",
       "      <td>16.214061</td>\n",
       "    </tr>\n",
       "    <tr>\n",
       "      <th>5</th>\n",
       "      <td>doc_52</td>\n",
       "      <td>1</td>\n",
       "      <td>1</td>\n",
       "      <td>1</td>\n",
       "      <td>doc_52</td>\n",
       "      <td>11.465073</td>\n",
       "    </tr>\n",
       "    <tr>\n",
       "      <th>3</th>\n",
       "      <td>doc_45</td>\n",
       "      <td>1</td>\n",
       "      <td>1</td>\n",
       "      <td>1</td>\n",
       "      <td>doc_45</td>\n",
       "      <td>11.015286</td>\n",
       "    </tr>\n",
       "    <tr>\n",
       "      <th>8</th>\n",
       "      <td>doc_122</td>\n",
       "      <td>1</td>\n",
       "      <td>1</td>\n",
       "      <td>1</td>\n",
       "      <td>doc_122</td>\n",
       "      <td>7.375109</td>\n",
       "    </tr>\n",
       "  </tbody>\n",
       "</table>\n",
       "</div>"
      ],
      "text/plain": [
       "       doc  query_id  label  is_relevant doc_title  predicted_relevance\n",
       "6   doc_82         1      1            1    doc_82            39.716177\n",
       "4  doc_501         1      1            1   doc_501            34.395218\n",
       "9  doc_165         1      1            1   doc_165            28.083578\n",
       "7  doc_100         1      1            1   doc_100            22.125327\n",
       "2   doc_18         1      1            1    doc_18            21.753446\n",
       "0   doc_12         1      1            1    doc_12            20.139777\n",
       "1    doc_9         1      1            1     doc_9            16.214061\n",
       "5   doc_52         1      1            1    doc_52            11.465073\n",
       "3   doc_45         1      1            1    doc_45            11.015286\n",
       "8  doc_122         1      1            1   doc_122             7.375109"
      ]
     },
     "execution_count": 38,
     "metadata": {},
     "output_type": "execute_result"
    }
   ],
   "source": [
    "current_query_res.sort_values(\"predicted_relevance\", ascending=False).head(10)\n"
   ]
  },
  {
   "cell_type": "code",
   "execution_count": 39,
   "metadata": {},
   "outputs": [
    {
     "data": {
      "text/plain": [
       "10"
      ]
     },
     "execution_count": 39,
     "metadata": {},
     "output_type": "execute_result"
    }
   ],
   "source": [
    "np.sum(current_query_res[\"is_relevant\"])"
   ]
  },
  {
   "cell_type": "code",
   "execution_count": 40,
   "metadata": {},
   "outputs": [
    {
     "data": {
      "text/plain": [
       "0.4463095238095239"
      ]
     },
     "execution_count": 40,
     "metadata": {},
     "output_type": "execute_result"
    }
   ],
   "source": [
    "(1 + (2 / 2) + (3 / 5) + (4 / 7) + (5 / 8) + (6 / 9)) / np.sum(current_query_res[\"is_relevant\"])"
   ]
  },
  {
   "cell_type": "markdown",
   "metadata": {},
   "source": [
    "#### Mean Average Precision (mAP)"
   ]
  },
  {
   "cell_type": "code",
   "execution_count": 41,
   "metadata": {},
   "outputs": [],
   "source": [
    "def map_at_k(search_res, k=10): #receives all the search esults dataframe containing all the queries and the results and relevances\n",
    "    \"\"\"\n",
    "    Parameters\n",
    "    ----------\n",
    "    search_res: search results dataset containing:\n",
    "        query_id: query id.\n",
    "        doc_id: document id.\n",
    "        predicted_relevance: relevance predicted through LightGBM.\n",
    "        doc_score: actual score of the document for the query (ground truth).\n",
    "\n",
    "    Returns\n",
    "    -------\n",
    "    mean average precision @ k : float\n",
    "    \"\"\"\n",
    "    avp = []\n",
    "    for q in search_res[\"query_id\"].unique():  # loop over all query ids\n",
    "        curr_data = search_res[search_res[\"query_id\"] == q]  # select data for current query (get a slice of the dataframe keeping only the data related to the current query)\n",
    "        avp.append(avg_precision_at_k(np.array(curr_data[\"is_relevant\"]), \n",
    "                   np.array(curr_data[\"predicted_relevance\"]), k))  #append average precision for current query\n",
    "    return np.sum(avp) / len(avp), avp  # return mean average precision"
   ]
  },
  {
   "cell_type": "code",
   "execution_count": 42,
   "metadata": {},
   "outputs": [
    {
     "data": {
      "text/plain": [
       "1.0"
      ]
     },
     "execution_count": 42,
     "metadata": {},
     "output_type": "execute_result"
    }
   ],
   "source": [
    "map_k, avp = map_at_k(search_results, 10)\n",
    "map_k"
   ]
  },
  {
   "cell_type": "markdown",
   "metadata": {},
   "source": [
    "#### Mean Reciprocal Rank (MRR)"
   ]
  },
  {
   "cell_type": "code",
   "execution_count": 43,
   "metadata": {},
   "outputs": [],
   "source": [
    "def rr_at_k(doc_score, y_score, k=10):\n",
    "    \"\"\"\n",
    "    Parameters\n",
    "    ----------\n",
    "    doc_score: Ground truth (true relevance labels).\n",
    "    y_score: Predicted scores.\n",
    "    k : number of doc to consider.\n",
    "\n",
    "    Returns\n",
    "    -------\n",
    "    Reciprocal Rank for qurrent query\n",
    "    \"\"\"\n",
    "\n",
    "    order = np.argsort(y_score)[::-1]  # get the list of indexes of the predicted score sorted in descending order. As before\n",
    "    doc_score = np.take(doc_score, order[\n",
    "                             :k])  # sort the actual relevance label of the documents based on predicted score(hint: np.take) and take first k. As before\n",
    "    if np.sum(doc_score) == 0:  # if there are not relevant doument return 0\n",
    "        return 0\n",
    "    return 1 / (np.argmax(doc_score == 1) + 1)  # hint: to get the position of the first relevant document use \"np.argmax\" (+1 because the idex starts from 0)\n"
   ]
  },
  {
   "cell_type": "code",
   "execution_count": 44,
   "metadata": {},
   "outputs": [
    {
     "data": {
      "text/plain": [
       "0.5"
      ]
     },
     "execution_count": 44,
     "metadata": {},
     "output_type": "execute_result"
    }
   ],
   "source": [
    "doc_score = np.array([0, 1, 0, 1, 1])\n",
    "score = np.array([0.9, 0.5, 0.6, 0.7, 0.2])\n",
    "rr_at_k(doc_score, score, 5)"
   ]
  },
  {
   "cell_type": "markdown",
   "metadata": {},
   "source": [
    "##### Test"
   ]
  },
  {
   "cell_type": "code",
   "execution_count": 45,
   "metadata": {},
   "outputs": [
    {
     "data": {
      "text/html": [
       "<div>\n",
       "<style scoped>\n",
       "    .dataframe tbody tr th:only-of-type {\n",
       "        vertical-align: middle;\n",
       "    }\n",
       "\n",
       "    .dataframe tbody tr th {\n",
       "        vertical-align: top;\n",
       "    }\n",
       "\n",
       "    .dataframe thead th {\n",
       "        text-align: right;\n",
       "    }\n",
       "</style>\n",
       "<table border=\"1\" class=\"dataframe\">\n",
       "  <thead>\n",
       "    <tr style=\"text-align: right;\">\n",
       "      <th></th>\n",
       "      <th>doc</th>\n",
       "      <th>query_id</th>\n",
       "      <th>label</th>\n",
       "      <th>is_relevant</th>\n",
       "      <th>doc_title</th>\n",
       "      <th>predicted_relevance</th>\n",
       "    </tr>\n",
       "  </thead>\n",
       "  <tbody>\n",
       "  </tbody>\n",
       "</table>\n",
       "</div>"
      ],
      "text/plain": [
       "Empty DataFrame\n",
       "Columns: [doc, query_id, label, is_relevant, doc_title, predicted_relevance]\n",
       "Index: []"
      ]
     },
     "execution_count": 45,
     "metadata": {},
     "output_type": "execute_result"
    }
   ],
   "source": [
    "current_query = 8\n",
    "current_query_res = search_results[search_results[\"query_id\"] == current_query]\n",
    "current_query_res.sort_values(\"predicted_relevance\", ascending=False).head(10)"
   ]
  },
  {
   "cell_type": "code",
   "execution_count": 46,
   "metadata": {},
   "outputs": [
    {
     "data": {
      "text/plain": [
       "0"
      ]
     },
     "execution_count": 46,
     "metadata": {},
     "output_type": "execute_result"
    }
   ],
   "source": [
    "labels = np.array(search_results[search_results['query_id'] == 8][\"is_relevant\"])\n",
    "scores = np.array(search_results[search_results['query_id'] == 8][\"predicted_relevance\"])\n",
    "np.round(rr_at_k(labels, scores, 10), 4)\n"
   ]
  },
  {
   "cell_type": "code",
   "execution_count": 47,
   "metadata": {},
   "outputs": [],
   "source": [
    "mrr = {}\n",
    "for k in [3, 5, 10]:\n",
    "    RRs = []\n",
    "    for q in search_results['query_id'].unique():  # loop over all query ids, get rrs for each query at each k\n",
    "        labels = np.array(search_results[search_results['query_id'] == q][\"is_relevant\"])  # get labels for current query\n",
    "        scores = np.array(search_results[search_results['query_id'] == q][\"predicted_relevance\"])  # get predicted score for current query\n",
    "        RRs.append(rr_at_k(labels, scores, k))  # append RR for current query\n",
    "    mrr[k] = np.round(float(sum(RRs) / len(RRs)), 4)  # Mean RR at current k"
   ]
  },
  {
   "cell_type": "code",
   "execution_count": 48,
   "metadata": {},
   "outputs": [
    {
     "data": {
      "text/plain": [
       "{3: 1.0, 5: 1.0, 10: 1.0}"
      ]
     },
     "execution_count": 48,
     "metadata": {},
     "output_type": "execute_result"
    }
   ],
   "source": [
    "mrr"
   ]
  },
  {
   "cell_type": "markdown",
   "metadata": {},
   "source": [
    "#### NDCG - Normalized Discounted Cumulative Gain"
   ]
  },
  {
   "cell_type": "code",
   "execution_count": 49,
   "metadata": {},
   "outputs": [],
   "source": [
    "def dcg_at_k(doc_score, y_score, k=10): #doc_scire are the labels (ground truth) and y_score are the system scores\n",
    "    order = np.argsort(y_score)[::-1]  # get the list of indexes of the predicted score sorted in descending order.\n",
    "    doc_score = np.take(doc_score, order[:k])  # sort the actual relevance label of the documents based on predicted score(hint: np.take) and take first k.\n",
    "    gain = 2 ** doc_score - 1  # First we calculate the upper part of the formula which is the CG (use formula 7 above) (notice it is based on the ground truth relevance)\n",
    "    discounts = np.log2(np.arange(len(doc_score)) + 2)  # Compute denominator (np.arrange creates a list of numbers betweeen 0 and len(doc_score)-1), then the + 2 addresses the fact that the numbers start from 0\n",
    "    return np.sum(gain / discounts)  #return dcg@k\n",
    "\n",
    "\n",
    "def ndcg_at_k(doc_score, y_score, k=10):\n",
    "    dcg_max = dcg_at_k(doc_score, doc_score, k) #ideal dcg\n",
    "    #print(dcg_max)\n",
    "    if not dcg_max:\n",
    "        return 0\n",
    "    return np.round(dcg_at_k(doc_score, y_score, k) / dcg_max, 4)"
   ]
  },
  {
   "cell_type": "code",
   "execution_count": 52,
   "metadata": {},
   "outputs": [
    {
     "name": "stdout",
     "output_type": "stream",
     "text": [
      "ndcg@10 for query with query_id=0: 0\n"
     ]
    }
   ],
   "source": [
    "query_id = 0\n",
    "k = 10\n",
    "labels = np.array(search_results[search_results['query_id'] == query_id][\"label\"])\n",
    "scores = np.array(search_results[search_results['query_id'] == query_id][\"predicted_relevance\"])\n",
    "ndcg_k = np.round(ndcg_at_k(labels, scores, k), 4)\n",
    "print(\"ndcg@{} for query with query_id={}: {}\".format(k, query_id, ndcg_k))\n"
   ]
  },
  {
   "cell_type": "code",
   "execution_count": 54,
   "metadata": {},
   "outputs": [
    {
     "name": "stdout",
     "output_type": "stream",
     "text": [
      "Average ndcg@10: 1.0\n"
     ]
    }
   ],
   "source": [
    "ndcgs = []\n",
    "k = 10\n",
    "for q in search_results['query_id'].unique(): # loop over all query ids\n",
    "    labels = np.array(search_results[search_results['query_id'] == q][\"label\"]) ## get labels for current query\n",
    "    scores = np.array(search_results[search_results['query_id'] == q][\"predicted_relevance\"]) # get predicted score for current query\n",
    "    ndcgs.append(np.round(ndcg_at_k(labels, scores, k), 4)) # append NDCG for current query (round is just about decimals)\n",
    "\n",
    "avg_ndcg = np.round(float(sum(ndcgs) / len(ndcgs)), 4)\n",
    "print(\"Average ndcg@{}: {}\".format(k, avg_ndcg))\n"
   ]
  }
 ],
 "metadata": {
  "kernelspec": {
   "display_name": "Python 3.8.10 64-bit",
   "language": "python",
   "name": "python3"
  },
  "language_info": {
   "codemirror_mode": {
    "name": "ipython",
    "version": 3
   },
   "file_extension": ".py",
   "mimetype": "text/x-python",
   "name": "python",
   "nbconvert_exporter": "python",
   "pygments_lexer": "ipython3",
   "version": "3.8.10"
  },
  "orig_nbformat": 4,
  "vscode": {
   "interpreter": {
    "hash": "916dbcbb3f70747c44a77c7bcd40155683ae19c65e1c03b4aa3499c5328201f1"
   }
  }
 },
 "nbformat": 4,
 "nbformat_minor": 2
}
